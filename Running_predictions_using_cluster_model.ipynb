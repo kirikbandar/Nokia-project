{
  "nbformat": 4,
  "nbformat_minor": 0,
  "metadata": {
    "colab": {
      "name": "Running predictions using cluster model.ipynb",
      "provenance": []
    },
    "kernelspec": {
      "name": "python3",
      "display_name": "Python 3"
    }
  },
  "cells": [
    {
      "cell_type": "code",
      "metadata": {
        "id": "Se-hs3N-UQMl",
        "colab_type": "code",
        "colab": {
          "base_uri": "https://localhost:8080/",
          "height": 289
        },
        "outputId": "5f915670-eb76-49c3-87c4-5223f833c47d"
      },
      "source": [
        "!pip install six python-firebase\n",
        "from firebase import firebase\n",
        "import tensorflow as tf\n",
        "import json\n",
        "import logging\n",
        "import flask\n",
        "from flask import Flask\n",
        "from firebase import firebase\n",
        "import json\n",
        "import tensorflow as tf\n",
        "import sklearn\n",
        "from sklearn.cluster import KMeans\n",
        "import matplotlib\n",
        "import matplotlib.pyplot as plt\n",
        "import mpl_toolkits\n",
        "from mpl_toolkits.mplot3d import Axes3D\n",
        "import numpy as np\n",
        "from sklearn import datasets"
      ],
      "execution_count": 2,
      "outputs": [
        {
          "output_type": "stream",
          "text": [
            "Requirement already satisfied: six in /usr/local/lib/python3.6/dist-packages (1.12.0)\n",
            "Collecting python-firebase\n",
            "  Downloading https://files.pythonhosted.org/packages/32/e6/88b799753e64aeb0f24040b98c94012994cf9517c889dee4f8a49ac89400/python-firebase-1.2.tar.gz\n",
            "Requirement already satisfied: requests>=1.1.0 in /usr/local/lib/python3.6/dist-packages (from python-firebase) (2.23.0)\n",
            "Requirement already satisfied: certifi>=2017.4.17 in /usr/local/lib/python3.6/dist-packages (from requests>=1.1.0->python-firebase) (2020.4.5.1)\n",
            "Requirement already satisfied: chardet<4,>=3.0.2 in /usr/local/lib/python3.6/dist-packages (from requests>=1.1.0->python-firebase) (3.0.4)\n",
            "Requirement already satisfied: urllib3!=1.25.0,!=1.25.1,<1.26,>=1.21.1 in /usr/local/lib/python3.6/dist-packages (from requests>=1.1.0->python-firebase) (1.24.3)\n",
            "Requirement already satisfied: idna<3,>=2.5 in /usr/local/lib/python3.6/dist-packages (from requests>=1.1.0->python-firebase) (2.9)\n",
            "Building wheels for collected packages: python-firebase\n",
            "  Building wheel for python-firebase (setup.py) ... \u001b[?25l\u001b[?25hdone\n",
            "  Created wheel for python-firebase: filename=python_firebase-1.2-cp36-none-any.whl size=11535 sha256=3d081d5b791db310c9bf92bdc335efb6cd9725346c3d16db705049c4f380a361\n",
            "  Stored in directory: /root/.cache/pip/wheels/ba/40/ca/e41a25d7abb787092e837cb0f91f33b04b1a8fd9d17c2d33a6\n",
            "Successfully built python-firebase\n",
            "Installing collected packages: python-firebase\n",
            "Successfully installed python-firebase-1.2\n"
          ],
          "name": "stdout"
        }
      ]
    },
    {
      "cell_type": "code",
      "metadata": {
        "id": "Nd2dH2tCUQrJ",
        "colab_type": "code",
        "colab": {
          "base_uri": "https://localhost:8080/",
          "height": 50
        },
        "outputId": "2f4a991d-9bac-4770-9223-e8ac10b3f65f"
      },
      "source": [
        "#to test and cluster new unseen data\n",
        "with open('/content/data10k.json') as f:\n",
        "  d = json.load(f)\n",
        "y=[[0 for i in range(3)] for j in d['users']['users']]\n",
        "c=0\n",
        "for i in d['users']['users']:\n",
        "  y[c][0]=(d['users']['users'][i]['latitude'])\n",
        "  y[c][1]=(d['users']['users'][i]['longitude'])\n",
        "  y[c][2]=(d['users']['users'][i]['rssi'])\n",
        "  c=c+1\n",
        "y=np.asarray(y)\n",
        "y=model.predict(y)\n",
        "print(y)\n",
        "\n",
        "z=[[0 for i in range(4)] for j in d['users']['users']]\n",
        "c=0\n",
        "for i in d['users']['users']:\n",
        "  z[c][0]=(d['users']['users'][i]['latitude'])\n",
        "  z[c][1]=(d['users']['users'][i]['longitude'])\n",
        "  z[c][2]=(y[c])\n",
        "  c=c+1\n",
        "print(len(z))"
      ],
      "execution_count": 9,
      "outputs": [
        {
          "output_type": "stream",
          "text": [
            "[1 2 1 ... 1 1 0]\n",
            "10102\n"
          ],
          "name": "stdout"
        }
      ]
    },
    {
      "cell_type": "code",
      "metadata": {
        "id": "hmzoabePUX3M",
        "colab_type": "code",
        "colab": {}
      },
      "source": [
        ""
      ],
      "execution_count": 0,
      "outputs": []
    },
    {
      "cell_type": "code",
      "metadata": {
        "id": "xhDxwQeHVAfh",
        "colab_type": "code",
        "colab": {}
      },
      "source": [
        ""
      ],
      "execution_count": 0,
      "outputs": []
    }
  ]
}